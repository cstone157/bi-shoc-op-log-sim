{
 "cells": [
  {
   "cell_type": "code",
   "execution_count": null,
   "id": "c37ca038-3fd5-4e3a-9038-e00a206c7ebb",
   "metadata": {},
   "outputs": [],
   "source": [
    "## import the postgres connector\n",
    "import psycopg2\n",
    "\n",
    "## INSERT THE PASSWORD\n",
    "\n",
    "## establishing the connection\n",
    "conn = psycopg2.connect(\n",
    "   database=\"test_db\", user='shoc', password='JustKeepSwimming', host='pg_container', port= '5432'\n",
    ")\n",
    "\n",
    "## Creating a cursor object using the cursor() method\n",
    "cursor = conn.cursor()\n",
    "\n",
    "cursor = conn.cursor()\n",
    "\n",
    "## Executing an SQL function using the execute() method\n",
    "cursor.execute(\"select * from loki_aggregated order by start_time\")\n",
    "\n",
    "## Fetch a single row using fetchone() method.\n",
    "data = cursor.fetchall()\n",
    "print(\"Pulled all of the data in loki_aggregated: \", type(data), \" of length \", len(data))\n",
    "\n",
    "## Closing the connection\n",
    "conn.close()"
   ]
  },
  {
   "cell_type": "code",
   "execution_count": null,
   "id": "c83334ed-2641-4d92-be98-4f5fea73cf07",
   "metadata": {},
   "outputs": [],
   "source": [
    "import numpy as np\n",
    "import pandas as pd\n",
    "from datetime import datetime\n",
    "\n",
    "## Make a dataframe from data\n",
    "df = pd.DataFrame(data)\n",
    "\n",
    "## For some reason when we pull from postgres we don't get column\n",
    "##     names, so go ahead and add them back\n",
    "df.columns =['container id', 'role', 'user name', 'process', 'message start', 'message stop', 'start time', 'stop time']\n",
    "\n",
    "## I wrote a custom function to convert the cell to a datetime object\n",
    "def convertStringToDateTime(cell):\n",
    "    tmp = cell.to_string(header=False, index=False)\n",
    "    if tmp == 'NaT':\n",
    "        return None\n",
    "    \n",
    "    try:\n",
    "        return datetime.strptime(tmp, '%Y-%m-%d %H:%M:%S.%f')\n",
    "    except ValueError:\n",
    "        return datetime.strptime(tmp, '%Y-%m-%d %H:%M:%S')\n",
    "    \n",
    "## Add another column for our df that calculates the diffence \n",
    "##     between the start and stop time\n",
    "timeDelta = []\n",
    "## need to merge the role and process to generate unique titles\n",
    "titles = []\n",
    "\n",
    "for i in range(0, len(df.index)):\n",
    "    start = convertStringToDateTime(df.loc[i, ['start time']])\n",
    "    stop = convertStringToDateTime(df.loc[i, ['stop time']])\n",
    "    \n",
    "    if start == None or stop == None:\n",
    "        timeDelta.append(None)\n",
    "    else:\n",
    "        timeDelta.append((stop - start).total_seconds() / 60)\n",
    "        \n",
    "    titles.append(df.loc[i, ['role']].to_string(header=False, index=False)+\", \"+df.loc[i, ['process']].to_string(header=False, index=False))\n",
    "\n",
    "## Now we are done add the time take column\n",
    "df['titles'] = titles\n",
    "df['delta'] = timeDelta"
   ]
  },
  {
   "cell_type": "code",
   "execution_count": null,
   "id": "7912ca34-0835-4430-8e47-ef51e08cf1b7",
   "metadata": {},
   "outputs": [],
   "source": [
    "import plotly.express as px\n",
    "from IPython.display import HTML\n",
    "\n",
    "\n",
    "# I want to order by the role/process, but only the first 50 by time\n",
    "tmp = df.sort_values('start time').iloc[:100]\n",
    "\n",
    "fig = px.timeline(tmp.sort_values('titles'), x_start=\"start time\", x_end=\"stop time\", y=\"titles\", color=\"delta\")\n",
    "fig.update_yaxes(autorange=\"reversed\") # otherwise tasks are listed from the bottom up\n",
    "HTML(fig.to_html())"
   ]
  },
  {
   "cell_type": "code",
   "execution_count": null,
   "id": "313fd9e8-848b-47f8-8a67-e651cf6decb3",
   "metadata": {},
   "outputs": [],
   "source": []
  }
 ],
 "metadata": {
  "kernelspec": {
   "display_name": "Python 3 (ipykernel)",
   "language": "python",
   "name": "python3"
  },
  "language_info": {
   "codemirror_mode": {
    "name": "ipython",
    "version": 3
   },
   "file_extension": ".py",
   "mimetype": "text/x-python",
   "name": "python",
   "nbconvert_exporter": "python",
   "pygments_lexer": "ipython3",
   "version": "3.10.5"
  }
 },
 "nbformat": 4,
 "nbformat_minor": 5
}
