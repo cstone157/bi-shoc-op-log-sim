{
 "cells": [
  {
   "cell_type": "code",
   "execution_count": 3,
   "id": "312f1aab-291d-48e4-bdc1-7b9196c4080c",
   "metadata": {},
   "outputs": [
    {
     "name": "stdout",
     "output_type": "stream",
     "text": [
      "Connection established to:  ('PostgreSQL 12.12 (Debian 12.12-1.pgdg110+1) on x86_64-pc-linux-gnu, compiled by gcc (Debian 10.2.1-6) 10.2.1 20210110, 64-bit',)\n"
     ]
    }
   ],
   "source": [
    "## import the postgres connector\n",
    "import psycopg2\n",
    "\n",
    "## INSERT THE PASSWORD\n",
    "\n",
    "## establishing the connection\n",
    "conn = psycopg2.connect(\n",
    "   database=\"test_db\", user='shoc', password='<password>', host='pg_container', port= '5432'\n",
    ")\n",
    "\n",
    "## Creating a cursor object using the cursor() method\n",
    "cursor = conn.cursor()\n",
    "\n",
    "## Executing an SQL function using the execute() method\n",
    "cursor.execute(\"select version()\")\n",
    "\n",
    "## Fetch a single row using fetchone() method.\n",
    "data = cursor.fetchone()\n",
    "print(\"Connection established to: \",data)\n",
    "\n",
    "## Closing the connection\n",
    "conn.close()"
   ]
  },
  {
   "cell_type": "code",
   "execution_count": null,
   "id": "bc55c4d8-38e6-48cf-83e0-159d4f68de94",
   "metadata": {},
   "outputs": [],
   "source": []
  }
 ],
 "metadata": {
  "kernelspec": {
   "display_name": "Python 3 (ipykernel)",
   "language": "python",
   "name": "python3"
  },
  "language_info": {
   "codemirror_mode": {
    "name": "ipython",
    "version": 3
   },
   "file_extension": ".py",
   "mimetype": "text/x-python",
   "name": "python",
   "nbconvert_exporter": "python",
   "pygments_lexer": "ipython3",
   "version": "3.10.5"
  }
 },
 "nbformat": 4,
 "nbformat_minor": 5
}
